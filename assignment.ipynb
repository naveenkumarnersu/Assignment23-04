{
 "cells": [
  {
   "cell_type": "code",
   "execution_count": null,
   "metadata": {},
   "outputs": [],
   "source": [
    "'''1.Given a string, write a Python program to extract the last three characters from the string and print them'''\n",
    "\n",
    "string = \"python\"\n",
    "\n",
    "print(\"Last 3 charecters are \", string[-3:])"
   ]
  },
  {
   "cell_type": "code",
   "execution_count": null,
   "metadata": {},
   "outputs": [],
   "source": [
    "'''2.You are given a string. Write a Python program to replace all occurrences of the character 'l' (lowercase L) \n",
    "   with 'L' (uppercase L) and print the modified string.'''\n",
    "   \n",
    "str=(\"lilliput\")\n",
    "\n",
    "print(\"Modified string is \", str.replace(\"l\",\"L\"))"
   ]
  },
  {
   "cell_type": "code",
   "execution_count": null,
   "metadata": {},
   "outputs": [],
   "source": [
    "'''3.Write a Python program to check if a given integer is even. If the integer is even, print True; otherwise, print False.'''\n",
    "\n",
    "str=int(input(\"Enter your number : \"))\n",
    "\n",
    "if str%2==0:\n",
    "    print(\"Number \",str, \"is True\")\n",
    "\n",
    "else:\n",
    "    print(\"Number \",str, \"is False\")\n",
    "    "
   ]
  },
  {
   "cell_type": "code",
   "execution_count": null,
   "metadata": {},
   "outputs": [],
   "source": [
    "'''4.Write a Python program to check if a given integer is divisible by both 3 and 5. If the integer is\n",
    "     divisible by both, print True; otherwise, print False.'''\n",
    "     \n",
    "str=int(input(\"Enter any intezer : \"))\n",
    "\n",
    "if str%3==0 and str%5==0:\n",
    "    print(\"True\")   \n",
    "    \n",
    "else:\n",
    "    print(\"False\")    "
   ]
  },
  {
   "cell_type": "code",
   "execution_count": null,
   "metadata": {},
   "outputs": [],
   "source": [
    "'''5.Given a string containing multiple occurrences of the word 'banana', write a Python program to replace only\n",
    "     the first occurrence of 'banana' with 'orange' and print the modified string.'''\n",
    "     \n",
    "str=\"Banana Banana Banana\" \n",
    "\n",
    "print(str.replace(\"Banana\",\"Orange\",1))\n",
    "        \n"
   ]
  },
  {
   "cell_type": "code",
   "execution_count": null,
   "metadata": {},
   "outputs": [],
   "source": [
    "'''6.Given two tuples representing coordinates (x, y) of two points, write a Python program to calculate \n",
    "   the Euclidean distance between them.'''\n",
    "   \n",
    "import math\n",
    "\n",
    "a = (7, 10)\n",
    "b = (12, 18)\n",
    "\n",
    "distance = (math.sqrt((b[0] - a[0])*2 + (b[1] - a[1])*2))\n",
    "\n",
    "print(\"Euclidean distance between two points :\",distance)"
   ]
  },
  {
   "cell_type": "code",
   "execution_count": null,
   "metadata": {},
   "outputs": [],
   "source": [
    "'''7.Write a Python program that takes two sets as input and returns a new set containing only the \n",
    "     elements that are common to both sets.'''\n",
    "     \n",
    "setA = {\"N\",\"A\",\"V\",\"E\",\"E\",\"N\"}    \n",
    "\n",
    "setB = {\"N\",\"A\",\"N\",\"I\"} \n",
    "\n",
    "setNew = (setA.intersection(setB))\n",
    "\n",
    "print(\"Set containing common elements : \",setNew)"
   ]
  },
  {
   "cell_type": "code",
   "execution_count": null,
   "metadata": {},
   "outputs": [],
   "source": [
    "''' 8.You are given a dictionary containing student names as keys and their corresponding grades as values. \n",
    "    Write a Python program to find and print the names of students who scored the highest grade.'''\n",
    "    \n",
    "data = {\"Annie\":22, \"Cat\":23, \"Jenny\":24}\n",
    "\n",
    "\n",
    "m = max(data, key=data.get)\n",
    "\n",
    "print(\"Student \",m,\" got highest grade \") \n",
    "\n",
    "\n"
   ]
  },
  {
   "cell_type": "code",
   "execution_count": null,
   "metadata": {},
   "outputs": [],
   "source": [
    "'''9.Write a Python program that takes an integer input from the user and prints whether it is\n",
    "     positive, negative, or zero.'''\n",
    "     \n",
    "num = int(input(\"Enter any intezer  : \"))\n",
    "\n",
    "if num>0:\n",
    "    print(num,\" is positive\")\n",
    "\n",
    "elif num<0:\n",
    "    print(num,\" is negative\")\n",
    "    \n",
    "else:\n",
    "    print(\"The intered intezer is zero\")"
   ]
  },
  {
   "cell_type": "code",
   "execution_count": null,
   "metadata": {},
   "outputs": [],
   "source": [
    "'''10.Write a Python program to calculate the factorial of a given number using a while loop.'''\n",
    "\n",
    "\n",
    "num = int(input(\"Enter any intezer : \"))\n",
    "\n",
    "copy = num\n",
    "\n",
    "fact = 1\n",
    "\n",
    "while num>0:\n",
    "    \n",
    "    fact = fact * num\n",
    "    \n",
    "    num = num - 1\n",
    "    \n",
    "print(\"Factorial of \",copy,\" is \",fact)"
   ]
  },
  {
   "cell_type": "code",
   "execution_count": null,
   "metadata": {},
   "outputs": [],
   "source": [
    "'''11.Write a Python program that takes a list of numbers as input and prints the square of each number using a for loop.'''\n",
    "\n",
    "list = input(\"Enter any list : \").split()\n",
    "\n",
    "for i in list:\n",
    "    \n",
    "    res = int(i)**2\n",
    "    \n",
    "    print(\"Square root of \",i,\" is \",res)"
   ]
  },
  {
   "cell_type": "code",
   "execution_count": null,
   "metadata": {},
   "outputs": [],
   "source": [
    "'''12.Write a Python function that takes two numbers as input and returns their sum.'''\n",
    "\n",
    "def add(a,b):\n",
    "    \n",
    "    return a+b\n",
    "\n",
    "a = int(input(\"Enter first number : \"))\n",
    "\n",
    "b = int(input(\"Enter second number : \"))\n",
    "\n",
    "sum = add(a,b)    \n",
    "\n",
    "print(\"Sum of \",a,\" and\",b,\" is \",sum)\n"
   ]
  },
  {
   "cell_type": "code",
   "execution_count": null,
   "metadata": {},
   "outputs": [],
   "source": [
    "'''13. Given a tuple containing the heights of students, write a Python program to find and print the maximum and minimum height.'''\n",
    "\n",
    "tup = (5.5, 6.2, 5.8, 6.1)\n",
    "\n",
    "max = max(tup)\n",
    "\n",
    "min = min(tup)\n",
    "\n",
    "print(\"Maximum height in the given tuple is \",max)\n",
    "\n",
    "print(\"Minimum height in the given tuple is \",min)"
   ]
  },
  {
   "cell_type": "code",
   "execution_count": null,
   "metadata": {},
   "outputs": [],
   "source": [
    "'''14.Write a Python program to check if a given set is a subset of another set.'''\n",
    "\n",
    "group= {\"Chaitanya\",\"Divya\",\"Kranthi\",\"Priyanka\"}\n",
    "\n",
    "female = {\"Priyanka\",\"Divya\",}\n",
    "\n",
    "if female.issubset(group):\n",
    "    print(\"female is a subset of group\")\n",
    "    \n",
    "else:\n",
    "    print(\"female is not a subset of group\")\n"
   ]
  },
  {
   "cell_type": "code",
   "execution_count": null,
   "metadata": {},
   "outputs": [],
   "source": [
    "'''15.You are given two dictionaries representing the inventory of two stores. Write a Python program \n",
    "      to merge the inventories and print the combined inventory.'''\n",
    "      \n",
    "gadgets = {'Redmi': 10, 'Samsung': 5, 'Nothing': 8}\n",
    "accessories =  {'Speaker': 3, 'Charger': 6, 'PowerBank': 2}\n",
    "\n",
    "combined_dict = {**gadgets, **accessories}\n",
    "\n",
    "print(\"Combined Dictionary:\", combined_dict)"
   ]
  }
 ],
 "metadata": {
  "kernelspec": {
   "display_name": "Python 3",
   "language": "python",
   "name": "python3"
  },
  "language_info": {
   "name": "python",
   "version": "3.11.9"
  }
 },
 "nbformat": 4,
 "nbformat_minor": 2
}
